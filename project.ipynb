{
 "cells": [
  {
   "cell_type": "code",
   "execution_count": 1,
   "id": "877775cf",
   "metadata": {},
   "outputs": [],
   "source": [
    "# import modules\n",
    "from pyspark import SparkContext\n",
    "from pyspark.ml import Pipeline\n",
    "from pyspark.ml.classification import LinearSVC, LogisticRegression, NaiveBayes, DecisionTreeClassifier, GBTClassifier \n",
    "from pyspark.ml.evaluation import BinaryClassificationEvaluator\n",
    "from pyspark.ml.feature import VectorAssembler, StringIndexer\n",
    "from pyspark.ml.tuning import ParamGridBuilder, CrossValidator\n",
    "from pyspark.sql import SparkSession\n",
    "from pyspark.sql.functions import col, abs"
   ]
  },
  {
   "cell_type": "code",
   "execution_count": 2,
   "id": "e4797231",
   "metadata": {},
   "outputs": [
    {
     "name": "stderr",
     "output_type": "stream",
     "text": [
      "Setting default log level to \"WARN\".\n",
      "To adjust logging level use sc.setLogLevel(newLevel). For SparkR, use setLogLevel(newLevel).\n",
      "23/04/26 00:59:50 WARN NativeCodeLoader: Unable to load native-hadoop library for your platform... using builtin-java classes where applicable\n",
      "/opt/anaconda3/lib/python3.7/site-packages/pyspark/context.py:317: FutureWarning: Python 3.7 support is deprecated in Spark 3.4.\n",
      "  warnings.warn(\"Python 3.7 support is deprecated in Spark 3.4.\", FutureWarning)\n"
     ]
    }
   ],
   "source": [
    "# create sessions\n",
    "sc = SparkContext.getOrCreate()\n",
    "spark = SparkSession.builder.appName(\"project\").getOrCreate()"
   ]
  },
  {
   "cell_type": "code",
   "execution_count": 3,
   "id": "b4ff9a73",
   "metadata": {},
   "outputs": [
    {
     "name": "stderr",
     "output_type": "stream",
     "text": [
      "                                                                                \r"
     ]
    }
   ],
   "source": [
    "# load data\n",
    "data = spark.read.option(\"header\",\"true\").csv(\"202302tripdata.csv\")\n",
    "# drop null values\n",
    "data = data.na.drop()\n",
    "# drop unwanted columns, change data type, create new columns\n",
    "data = data.drop(\"ride_id\",\"start_station_name\",\"end_station_name\",\"start_station_id\",\"end_station_id\")\\\n",
    "            .withColumn(\"start_lat\", col(\"start_lat\").cast(\"double\"))\\\n",
    "            .withColumn(\"start_lng\", abs(col(\"start_lng\").cast(\"double\")))\\\n",
    "            .withColumn(\"end_lat\", col(\"end_lat\").cast(\"double\"))\\\n",
    "            .withColumn(\"end_lng\", abs(col(\"end_lng\").cast(\"double\")))\\\n",
    "            .withColumn(\"start_day\", data.started_at[9:2].cast(\"integer\"))\\\n",
    "            .withColumn(\"start_hour\", data.started_at[12:2].cast(\"integer\"))\\\n",
    "            .withColumn(\"end_day\", data.ended_at[9:2].cast(\"integer\"))\\\n",
    "            .withColumn(\"end_hour\", data.ended_at[12:2].cast(\"integer\"))\n",
    "# one hot encoding\n",
    "bike_indexer = StringIndexer(inputCol=\"rideable_type\", outputCol=\"bike_index\")\n",
    "label_indexer = StringIndexer(inputCol=\"member_casual\", outputCol=\"label\")\n",
    "pipeline = Pipeline(stages=[bike_indexer, label_indexer])\n",
    "data = pipeline.fit(data).transform(data)\n",
    "data = data.drop(\"rideable_type\",\"started_at\",\"ended_at\",\"member_casual\")"
   ]
  },
  {
   "cell_type": "code",
   "execution_count": 4,
   "id": "f0fc7f24",
   "metadata": {},
   "outputs": [
    {
     "name": "stderr",
     "output_type": "stream",
     "text": [
      "23/04/26 01:00:04 WARN InstanceBuilder: Failed to load implementation from:dev.ludovic.netlib.blas.JNIBLAS\n",
      "23/04/26 01:00:04 WARN InstanceBuilder: Failed to load implementation from:dev.ludovic.netlib.blas.VectorBLAS\n",
      "                                                                                \r"
     ]
    },
    {
     "name": "stdout",
     "output_type": "stream",
     "text": [
      "SVM Accuracy: 0.5709734549917762\n"
     ]
    }
   ],
   "source": [
    "# Support Vector Machines\n",
    "assembler = VectorAssembler(inputCols=data.columns[:-1], outputCol=\"features\")\n",
    "data = assembler.transform(data).select(\"features\", \"label\")\n",
    "train, test = data.randomSplit([0.8, 0.2])\n",
    "svm = LinearSVC(maxIter=10, regParam=0.1)\n",
    "svm_model = svm.fit(train)\n",
    "predictions = svm_model.transform(test)   \n",
    "evaluator = BinaryClassificationEvaluator(rawPredictionCol=\"rawPrediction\", labelCol=\"label\")\n",
    "accuracy = evaluator.evaluate(predictions)\n",
    "print(\"SVM Accuracy:\", accuracy)"
   ]
  },
  {
   "cell_type": "code",
   "execution_count": 5,
   "id": "11e57a3d",
   "metadata": {},
   "outputs": [
    {
     "name": "stdout",
     "output_type": "stream",
     "text": [
      "Logistic Regression Accuracy: 0.6238679488486182\n"
     ]
    }
   ],
   "source": [
    "# Logistic Regression\n",
    "lr = LogisticRegression(featuresCol=\"features\", labelCol=\"label\")\n",
    "lr_model = lr.fit(train)\n",
    "predictions = lr_model.transform(test)   \n",
    "evaluator = BinaryClassificationEvaluator(rawPredictionCol=\"rawPrediction\", labelCol=\"label\")\n",
    "accuracy = evaluator.evaluate(predictions)\n",
    "print(\"Logistic Regression Accuracy:\", accuracy)"
   ]
  },
  {
   "cell_type": "code",
   "execution_count": 6,
   "id": "85be5c33",
   "metadata": {},
   "outputs": [
    {
     "name": "stderr",
     "output_type": "stream",
     "text": [
      "                                                                                \r"
     ]
    },
    {
     "name": "stdout",
     "output_type": "stream",
     "text": [
      "Naive Bayes Accuracy: 0.4501426604685259\n"
     ]
    }
   ],
   "source": [
    "# Naive Bayes\n",
    "nb = NaiveBayes(featuresCol=\"features\", labelCol=\"label\")\n",
    "nb_model = nb.fit(train)\n",
    "predictions = nb_model.transform(test)  \n",
    "evaluator = BinaryClassificationEvaluator(rawPredictionCol=\"rawPrediction\", labelCol=\"label\")\n",
    "accuracy = evaluator.evaluate(predictions)\n",
    "print(\"Naive Bayes Accuracy:\", accuracy)"
   ]
  },
  {
   "cell_type": "code",
   "execution_count": 7,
   "id": "d5a4b735",
   "metadata": {},
   "outputs": [
    {
     "name": "stderr",
     "output_type": "stream",
     "text": [
      "                                                                                \r"
     ]
    },
    {
     "name": "stdout",
     "output_type": "stream",
     "text": [
      "Decision Tree Accuracy: 0.39652750906528866\n"
     ]
    }
   ],
   "source": [
    "# Decision Tree\n",
    "dt = DecisionTreeClassifier(featuresCol=\"features\", labelCol=\"label\")\n",
    "dt_model = dt.fit(train)\n",
    "predictions = dt_model.transform(test) \n",
    "evaluator = BinaryClassificationEvaluator(rawPredictionCol=\"rawPrediction\", labelCol=\"label\")\n",
    "accuracy = evaluator.evaluate(predictions)\n",
    "print(\"Decision Tree Accuracy:\", accuracy)"
   ]
  },
  {
   "cell_type": "code",
   "execution_count": 8,
   "id": "d2d42012",
   "metadata": {},
   "outputs": [
    {
     "name": "stdout",
     "output_type": "stream",
     "text": [
      "GBT Accuracy: 0.687541422477469\n"
     ]
    }
   ],
   "source": [
    "# Gradient Boosting Trees\n",
    "gbt = GBTClassifier(featuresCol=\"features\", labelCol=\"label\", maxIter=10)\n",
    "param_grid = (ParamGridBuilder()\n",
    "              .addGrid(gbt.maxDepth, [2, 4, 6])\n",
    "              .addGrid(gbt.maxBins, [20, 60])\n",
    "              .build())\n",
    "cv = CrossValidator(estimator=gbt, estimatorParamMaps=param_grid, evaluator=evaluator, numFolds=10)\n",
    "model = cv.fit(train)\n",
    "predictions = model.transform(test)  \n",
    "evaluator = BinaryClassificationEvaluator() \n",
    "accuracy = evaluator.evaluate(predictions)\n",
    "print(\"GBT Accuracy:\", accuracy)"
   ]
  }
 ],
 "metadata": {
  "kernelspec": {
   "display_name": "Python 3 (ipykernel)",
   "language": "python",
   "name": "python3"
  },
  "language_info": {
   "codemirror_mode": {
    "name": "ipython",
    "version": 3
   },
   "file_extension": ".py",
   "mimetype": "text/x-python",
   "name": "python",
   "nbconvert_exporter": "python",
   "pygments_lexer": "ipython3",
   "version": "3.7.16"
  }
 },
 "nbformat": 4,
 "nbformat_minor": 5
}
